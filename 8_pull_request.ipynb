{
 "cells": [
  {
   "cell_type": "markdown",
   "source": [
    "<img src=\"images8/1.PNG\" />;\n",
    "\n",
    "<img src=\"images8/2.PNG\" />;\n",
    "\n",
    "<img src=\"images8/3.PNG\" />;\n",
    "\n",
    "<img src=\"images8/4.PNG\" />;\n",
    "\n",
    "<img src=\"images8/5.PNG\" />;\n",
    "\n",
    "<img src=\"images8/6.PNG\" />;\n",
    "\n",
    "<img src=\"images8/7.PNG\" />;\n",
    "\n",
    "<img src=\"images8/8.PNG\" />;\n",
    "\n",
    "<img src=\"images8/9.PNG\" />;\n",
    "\n",
    "<img src=\"images8/10.PNG\" />;\n",
    "\n",
    "<img src=\"images8/11.PNG\" />;\n",
    "\n",
    "<img src=\"images8/12.PNG\" />;\n",
    "\n",
    "<img src=\"images8/13.PNG\" />;\n",
    "\n",
    "<img src=\"images8/14.PNG\" />;\n",
    "\n",
    "<img src=\"images8/15.PNG\" />;\n",
    "\n",
    "<img src=\"images8/16.PNG\" />;\n",
    "\n",
    "<img src=\"images8/17.PNG\" />;\n",
    "\n",
    "<img src=\"images8/18.PNG\" />;\n",
    "\n",
    "<img src=\"images8/19.PNG\" />;\n",
    "\n",
    "<img src=\"images8/20.PNG\" />;\n",
    "\n",
    "<img src=\"images8/21.PNG\" />;\n",
    "\n",
    "<img src=\"images8/22.PNG\" />;\n",
    "\n",
    "<img src=\"images8/23.PNG\" />;\n",
    "\n",
    "<img src=\"images8/24.PNG\" />;\n",
    "\n",
    "<img src=\"images8/25.PNG\" />;\n",
    "\n",
    "<img src=\"images8/26.PNG\" />;\n",
    "\n",
    "<img src=\"images8/27.PNG\" />;"
   ],
   "metadata": {
    "collapsed": false,
    "pycharm": {
     "name": "#%% md\n"
    }
   }
  },
  {
   "cell_type": "code",
   "execution_count": null,
   "outputs": [],
   "source": [],
   "metadata": {
    "collapsed": false,
    "pycharm": {
     "name": "#%%\n"
    }
   }
  }
 ],
 "metadata": {
  "kernelspec": {
   "display_name": "Python 3",
   "language": "python",
   "name": "python3"
  },
  "language_info": {
   "codemirror_mode": {
    "name": "ipython",
    "version": 2
   },
   "file_extension": ".py",
   "mimetype": "text/x-python",
   "name": "python",
   "nbconvert_exporter": "python",
   "pygments_lexer": "ipython2",
   "version": "2.7.6"
  }
 },
 "nbformat": 4,
 "nbformat_minor": 0
}