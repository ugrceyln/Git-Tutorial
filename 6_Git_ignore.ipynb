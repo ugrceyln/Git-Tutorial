{
 "cells": [
  {
   "cell_type": "raw",
   "source": [
    ".gitignore file -> to untrack files, keep file name in this file\n",
    "touch .gitignore   # create .gitignore file\n",
    "\n"
   ],
   "metadata": {
    "collapsed": false
   }
  },
  {
   "cell_type": "markdown",
   "source": [
    "<img src=\"images/images6/1.PNG\" />;\n",
    "<img src=\"images/images6/2.PNG\" />;\n",
    "<img src=\"images/images6/3.PNG\" />;\n",
    "<img src=\"images/images6/4.PNG\" />;\n",
    "<img src=\"images/images6/5.PNG\" />;\n",
    "<img src=\"images/images6/6.PNG\" />;\n",
    "<img src=\"images/images6/7.PNG\" />;\n",
    "<img src=\"images/images6/8.PNG\" />;\n",
    "<img src=\"images/images6/9.PNG\" />;\n",
    "<img src=\"images/images6/10.PNG\" />;\n",
    "<img src=\"images/images6/11.PNG\" />;\n",
    "<img src=\"images/images6/12.PNG\" />;\n",
    "<img src=\"images/images6/13.PNG\" />;"
   ],
   "metadata": {
    "collapsed": false,
    "pycharm": {
     "name": "#%% md\n"
    }
   }
  },
  {
   "cell_type": "code",
   "execution_count": null,
   "outputs": [],
   "source": [],
   "metadata": {
    "collapsed": false,
    "pycharm": {
     "name": "#%%\n"
    }
   }
  }
 ],
 "metadata": {
  "kernelspec": {
   "display_name": "Python 3",
   "language": "python",
   "name": "python3"
  },
  "language_info": {
   "codemirror_mode": {
    "name": "ipython",
    "version": 2
   },
   "file_extension": ".py",
   "mimetype": "text/x-python",
   "name": "python",
   "nbconvert_exporter": "python",
   "pygments_lexer": "ipython2",
   "version": "2.7.6"
  }
 },
 "nbformat": 4,
 "nbformat_minor": 0
}