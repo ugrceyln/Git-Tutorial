{
 "cells": [
  {
   "cell_type": "raw",
   "source": [
    "git add <file>              # added file to stage area\n",
    "git restore --staged <file> # remove file from stage area\n",
    "\n",
    "git checkout -- <file>  # discard uncommitted changes on working file\n",
    "git checkout -- .       # discard all files that uncommitted changes\n",
    "\n",
    "git revert <commit id>  # revert specific committed changes\n",
    "git revert -n <commit id>  # revert specific committed changes but not committed changes\n",
    "\n",
    "\n",
    "git reset --hard <commit id>  # reset to specific commit that ignore all changes after this commit so loss all changes after this commit\n",
    "\n"
   ],
   "metadata": {
    "collapsed": false,
    "pycharm": {
     "name": "#%% raw\n"
    }
   }
  },
  {
   "cell_type": "markdown",
   "source": [
    "<img src=\"images3/1.PNG\" />;\n",
    "\n",
    "<img src=\"images3/2.PNG\" />;\n",
    "\n",
    "<img src=\"images3/3.PNG\" />;\n",
    "\n",
    "<img src=\"images3/4.PNG\" />;\n",
    "\n",
    "<img src=\"images3/5.PNG\" />;\n",
    "\n",
    "<img src=\"images3/6.PNG\" />;\n",
    "\n",
    "<img src=\"images3/7.PNG\" />;\n",
    "\n",
    "<img src=\"images3/8.PNG\" />;\n",
    "\n",
    "<img src=\"images3/9.PNG\" />;\n",
    "\n",
    "<img src=\"images3/10.PNG\" />;\n",
    "\n",
    "<img src=\"images3/11.PNG\" />;\n",
    "\n"
   ],
   "metadata": {
    "collapsed": false
   }
  },
  {
   "cell_type": "markdown",
   "source": [
    "\n",
    "\n",
    "<img src=\"images3/12.PNG\" />;\n",
    "\n",
    "<img src=\"images3/13.PNG\" />;\n",
    "\n",
    "<img src=\"images3/14.PNG\" />;\n",
    "\n",
    "<img src=\"images3/15.PNG\" />;\n",
    "\n",
    "<img src=\"images3/16.PNG\" />;\n",
    "\n",
    "<img src=\"images3/17.PNG\" />;\n",
    "\n",
    "<img src=\"images3/18.PNG\" />;\n",
    "\n",
    "<img src=\"images3/19.PNG\" />;\n",
    "\n",
    "<img src=\"images3/20.PNG\" />;\n",
    "\n",
    "<img src=\"images3/21.PNG\" />;\n",
    "\n",
    "<img src=\"images3/22.PNG\" />;\n",
    "\n",
    "<img src=\"images3/23.PNG\" />;\n",
    "\n",
    "<img src=\"images3/24.PNG\" />;\n",
    "\n",
    "<img src=\"images3/25.PNG\" />;\n",
    "\n",
    "<img src=\"images3/26.PNG\" />;\n"
   ],
   "metadata": {
    "collapsed": false,
    "pycharm": {
     "name": "#%% md\n"
    }
   }
  },
  {
   "cell_type": "markdown",
   "source": [
    "\n"
   ],
   "metadata": {
    "collapsed": false,
    "pycharm": {
     "name": "#%% md\n"
    }
   }
  },
  {
   "cell_type": "markdown",
   "source": [
    "<img src=\"images3/27.PNG\" />;\n",
    "\n",
    "<img src=\"images3/28.PNG\" />;\n",
    "\n",
    "<img src=\"images3/29.PNG\" />;\n",
    "\n",
    "<img src=\"images3/30.PNG\" />;\n"
   ],
   "metadata": {
    "collapsed": false,
    "pycharm": {
     "name": "#%% md\n"
    }
   }
  },
  {
   "cell_type": "code",
   "execution_count": null,
   "outputs": [],
   "source": [],
   "metadata": {
    "collapsed": false,
    "pycharm": {
     "name": "#%%\n"
    }
   }
  },
  {
   "cell_type": "code",
   "execution_count": null,
   "outputs": [],
   "source": [],
   "metadata": {
    "collapsed": false,
    "pycharm": {
     "name": "#%%\n"
    }
   }
  }
 ],
 "metadata": {
  "kernelspec": {
   "display_name": "Python 3",
   "language": "python",
   "name": "python3"
  },
  "language_info": {
   "codemirror_mode": {
    "name": "ipython",
    "version": 2
   },
   "file_extension": ".py",
   "mimetype": "text/x-python",
   "name": "python",
   "nbconvert_exporter": "python",
   "pygments_lexer": "ipython2",
   "version": "2.7.6"
  }
 },
 "nbformat": 4,
 "nbformat_minor": 0
}