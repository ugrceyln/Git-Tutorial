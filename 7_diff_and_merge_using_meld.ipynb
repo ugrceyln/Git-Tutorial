{
 "cells": [
  {
   "cell_type": "markdown",
   "source": [
    "<img src=\"images7/1.PNG\" />;\n",
    "\n",
    "<img src=\"images7/2.PNG\" />;\n",
    "\n",
    "<img src=\"images7/3.PNG\" />;\n",
    "\n",
    "<img src=\"images7/4.PNG\" />;\n",
    "\n",
    "<img src=\"images7/5.PNG\" />;\n",
    "\n",
    "<img src=\"images7/6.PNG\" />;\n",
    "\n",
    "<img src=\"images7/7.PNG\" />;\n",
    "\n",
    "<img src=\"images7/8.PNG\" />;\n",
    "\n",
    "<img src=\"images7/9.PNG\" />;\n",
    "\n",
    "<img src=\"images7/10.PNG\" />;\n",
    "\n",
    "<img src=\"images7/11.PNG\" />;\n",
    "\n",
    "<img src=\"images7/12.PNG\" />;\n",
    "\n",
    "<img src=\"images7/13.PNG\" />;\n",
    "\n",
    "<img src=\"images7/14.PNG\" />;\n",
    "\n",
    "<img src=\"images7/15.PNG\" />;\n",
    "\n",
    "<img src=\"images7/16.PNG\" />;\n",
    "\n",
    "<img src=\"images7/17.PNG\" />;\n",
    "\n",
    "<img src=\"images7/18.PNG\" />;\n",
    "\n",
    "<img src=\"images7/19.PNG\" />;\n",
    "\n",
    "<img src=\"images7/20.PNG\" />;\n",
    "\n",
    "<img src=\"images7/21.PNG\" />;\n",
    "\n",
    "<img src=\"images7/22.PNG\" />;\n",
    "\n",
    "<img src=\"images7/23.PNG\" />;\n",
    "\n",
    "<img src=\"images7/24.PNG\" />;\n",
    "\n",
    "<img src=\"images7/25.PNG\" />;\n",
    "\n",
    "<img src=\"images7/26.PNG\" />;\n",
    "\n",
    "<img src=\"images7/27.PNG\" />;\n",
    "\n",
    "<img src=\"images7/28.PNG\" />;\n",
    "\n",
    "<img src=\"images7/29.PNG\" />;\n",
    "\n",
    "<img src=\"images7/30.PNG\" />;\n",
    "\n",
    "<img src=\"images7/31.PNG\" />;\n",
    "\n",
    "<img src=\"images7/32.PNG\" />;\n",
    "\n",
    "<img src=\"images7/33.PNG\" />;\n",
    "\n",
    "<img src=\"images7/34.PNG\" />;"
   ],
   "metadata": {
    "collapsed": false,
    "pycharm": {
     "name": "#%% md\n"
    }
   }
  },
  {
   "cell_type": "code",
   "execution_count": null,
   "outputs": [],
   "source": [],
   "metadata": {
    "collapsed": false,
    "pycharm": {
     "name": "#%%\n"
    }
   }
  }
 ],
 "metadata": {
  "kernelspec": {
   "display_name": "Python 3",
   "language": "python",
   "name": "python3"
  },
  "language_info": {
   "codemirror_mode": {
    "name": "ipython",
    "version": 2
   },
   "file_extension": ".py",
   "mimetype": "text/x-python",
   "name": "python",
   "nbconvert_exporter": "python",
   "pygments_lexer": "ipython2",
   "version": "2.7.6"
  }
 },
 "nbformat": 4,
 "nbformat_minor": 0
}