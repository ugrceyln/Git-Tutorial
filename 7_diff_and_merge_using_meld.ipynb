{
 "cells": [
  {
   "cell_type": "markdown",
   "source": [
    "<img src=\"images/images7/1.PNG\" />;\n",
    "<img src=\"images/images7/2.PNG\" />;\n",
    "<img src=\"images/images7/3.PNG\" />;\n",
    "<img src=\"images/images7/4.PNG\" />;\n",
    "<img src=\"images/images7/5.PNG\" />;\n",
    "<img src=\"images/images7/6.PNG\" />;\n",
    "<img src=\"images/images7/7.PNG\" />;\n",
    "<img src=\"images/images7/8.PNG\" />;\n",
    "<img src=\"images/images7/9.PNG\" />;\n",
    "<img src=\"images/images7/10.PNG\" />;\n",
    "<img src=\"images/images7/11.PNG\" />;\n",
    "<img src=\"images/images7/12.PNG\" />;\n",
    "<img src=\"images/images7/13.PNG\" />;\n",
    "<img src=\"images/images7/14.PNG\" />;\n",
    "<img src=\"images/images7/15.PNG\" />;\n",
    "<img src=\"images/images7/16.PNG\" />;\n",
    "<img src=\"images/images7/17.PNG\" />;\n",
    "<img src=\"images/images7/18.PNG\" />;\n",
    "<img src=\"images/images7/19.PNG\" />;\n",
    "<img src=\"images/images7/20.PNG\" />;\n",
    "<img src=\"images/images7/21.PNG\" />;\n",
    "<img src=\"images/images7/22.PNG\" />;\n",
    "<img src=\"images/images7/23.PNG\" />;\n",
    "<img src=\"images/images7/24.PNG\" />;\n",
    "<img src=\"images/images7/25.PNG\" />;\n",
    "<img src=\"images/images7/26.PNG\" />;\n",
    "<img src=\"images/images7/27.PNG\" />;\n",
    "<img src=\"images/images7/28.PNG\" />;\n",
    "<img src=\"images/images7/29.PNG\" />;\n",
    "<img src=\"images/images7/30.PNG\" />;\n",
    "<img src=\"images/images7/31.PNG\" />;\n",
    "<img src=\"images/images7/32.PNG\" />;\n",
    "<img src=\"images/images7/33.PNG\" />;\n",
    "<img src=\"images/images7/34.PNG\" />;"
   ],
   "metadata": {
    "collapsed": false,
    "pycharm": {
     "name": "#%% md\n"
    }
   }
  },
  {
   "cell_type": "code",
   "execution_count": null,
   "outputs": [],
   "source": [],
   "metadata": {
    "collapsed": false,
    "pycharm": {
     "name": "#%%\n"
    }
   }
  }
 ],
 "metadata": {
  "kernelspec": {
   "display_name": "Python 3",
   "language": "python",
   "name": "python3"
  },
  "language_info": {
   "codemirror_mode": {
    "name": "ipython",
    "version": 2
   },
   "file_extension": ".py",
   "mimetype": "text/x-python",
   "name": "python",
   "nbconvert_exporter": "python",
   "pygments_lexer": "ipython2",
   "version": "2.7.6"
  }
 },
 "nbformat": 4,
 "nbformat_minor": 0
}