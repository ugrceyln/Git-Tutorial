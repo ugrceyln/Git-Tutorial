{
 "cells": [
  {
   "cell_type": "markdown",
   "source": [
    "<img src=\"images2/1.PNG\" />\n",
    "\n",
    "<img src=\"images2/2.PNG\" />\n",
    "\n",
    "<img src=\"images2/3.PNG\" />\n",
    "\n",
    "<img src=\"images2/4.PNG\" />\n",
    "\n",
    "<img src=\"images2/5.PNG\" />\n",
    "\n",
    "<img src=\"images2/6.PNG\" />\n",
    "\n",
    "<img src=\"images2/7.PNG\" />\n",
    "\n",
    "<img src=\"images2/8.PNG\" />\n",
    "\n",
    "<img src=\"images2/9.PNG\" />\n",
    "\n",
    "<img src=\"images2/10.PNG\" />\n",
    "\n",
    "\n",
    "\n"
   ],
   "metadata": {
    "collapsed": false,
    "pycharm": {
     "name": "#%% md\n"
    }
   }
  },
  {
   "cell_type": "markdown",
   "source": [
    "<img src=\"images2/11.PNG\" />\n",
    "\n",
    "<img src=\"images2/12.PNG\" />\n",
    "\n",
    "<img src=\"images2/13.PNG\" />\n",
    "\n",
    "<img src=\"images2/14.PNG\" />\n",
    "\n",
    "<img src=\"images2/15.PNG\" />\n",
    "\n",
    "<img src=\"images2/16.PNG\" />\n",
    "\n",
    "<img src=\"images2/17.PNG\" />\n",
    "\n",
    "<img src=\"images2/18.PNG\" />\n",
    "\n",
    "<img src=\"images2/19.PNG\" />\n",
    "\n",
    "<img src=\"images2/20.PNG\" />"
   ],
   "metadata": {
    "collapsed": false,
    "pycharm": {
     "name": "#%% md\n"
    }
   }
  },
  {
   "cell_type": "markdown",
   "source": [
    "<img src=\"images2/21.PNG\" />\n",
    "\n",
    "<img src=\"images2/22.PNG\" />\n",
    "\n",
    "<img src=\"images2/23.PNG\" />\n",
    "\n",
    "<img src=\"images2/24.PNG\" />\n",
    "\n",
    "<img src=\"images2/25.PNG\" />\n"
   ],
   "metadata": {
    "collapsed": false,
    "pycharm": {
     "name": "#%% md\n"
    }
   }
  },
  {
   "cell_type": "code",
   "execution_count": null,
   "outputs": [],
   "source": [],
   "metadata": {
    "collapsed": false,
    "pycharm": {
     "name": "#%%\n"
    }
   }
  }
 ],
 "metadata": {
  "kernelspec": {
   "display_name": "Python 3",
   "language": "python",
   "name": "python3"
  },
  "language_info": {
   "codemirror_mode": {
    "name": "ipython",
    "version": 2
   },
   "file_extension": ".py",
   "mimetype": "text/x-python",
   "name": "python",
   "nbconvert_exporter": "python",
   "pygments_lexer": "ipython2",
   "version": "2.7.6"
  }
 },
 "nbformat": 4,
 "nbformat_minor": 0
}