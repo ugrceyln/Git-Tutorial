{
 "cells": [
  {
   "cell_type": "markdown",
   "source": [
    "<img src=\"images/images2/1.PNG\" />;\n",
    "<img src=\"images/images2/2.PNG\" />;\n",
    "<img src=\"images/images2/3.PNG\" />;\n",
    "<img src=\"images/images2/4.PNG\" />;\n",
    "<img src=\"images/images2/5.PNG\" />;\n",
    "<img src=\"images/images2/6.PNG\" />;\n",
    "<img src=\"images/images2/7.PNG\" />;\n",
    "<img src=\"images/images2/8.PNG\" />;\n",
    "<img src=\"images/images2/9.PNG\" />;\n",
    "<img src=\"images/images2/10.PNG\" />;\n",
    "<img src=\"images/images2/11.PNG\" />;\n",
    "<img src=\"images/images2/12.PNG\" />;\n",
    "<img src=\"images/images2/13.PNG\" />;\n",
    "<img src=\"images/images2/14.PNG\" />;\n",
    "<img src=\"images/images2/15.PNG\" />;\n",
    "<img src=\"images/images2/16.PNG\" />;\n",
    "<img src=\"images/images2/17.PNG\" />;\n",
    "<img src=\"images/images2/18.PNG\" />;\n",
    "<img src=\"images/images2/19.PNG\" />;\n",
    "<img src=\"images/images2/20.PNG\" />;\n",
    "<img src=\"images/images2/21.PNG\" />;\n",
    "<img src=\"images/images2/22.PNG\" />;\n",
    "<img src=\"images/images2/23.PNG\" />;\n",
    "<img src=\"images/images2/24.PNG\" />;\n",
    "<img src=\"images/images2/25.PNG\" />;\n",
    "\n",
    "\n"
   ],
   "metadata": {
    "collapsed": false,
    "pycharm": {
     "name": "#%% md\n"
    }
   }
  },
  {
   "cell_type": "code",
   "execution_count": null,
   "outputs": [],
   "source": [],
   "metadata": {
    "collapsed": false,
    "pycharm": {
     "name": "#%%\n"
    }
   }
  }
 ],
 "metadata": {
  "kernelspec": {
   "display_name": "Python 3",
   "language": "python",
   "name": "python3"
  },
  "language_info": {
   "codemirror_mode": {
    "name": "ipython",
    "version": 2
   },
   "file_extension": ".py",
   "mimetype": "text/x-python",
   "name": "python",
   "nbconvert_exporter": "python",
   "pygments_lexer": "ipython2",
   "version": "2.7.6"
  }
 },
 "nbformat": 4,
 "nbformat_minor": 0
}