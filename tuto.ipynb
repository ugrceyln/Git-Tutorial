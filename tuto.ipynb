{
 "cells": [
  {
   "cell_type": "markdown",
   "source": [
    "<img src=\"images/1.PNG\" />\n",
    "\n",
    "<img src=\"images/2.PNG\" />\n",
    "\n",
    "<img src=\"images/3.PNG\" />\n",
    "\n",
    "<img src=\"images/4.PNG\" />\n",
    "\n",
    "<img src=\"images/5.PNG\" />"
   ],
   "metadata": {
    "collapsed": false,
    "pycharm": {
     "name": "#%% md\n"
    }
   }
  },
  {
   "cell_type": "markdown",
   "source": [
    "\n",
    "# <img src=\"images/1.PNG\" width=60 height=60 />\n",
    "\n",
    "\n",
    "<img src=\"images/6.PNG\"/>\n",
    "\n",
    "<img src=\"images/7.PNG\"/>\n",
    "\n",
    "<img src=\"images/8.PNG\"/>\n",
    "\n",
    "<img src=\"images/9.PNG\"/>\n",
    "\n",
    "<img src=\"images/10.PNG\"/>"
   ],
   "metadata": {
    "collapsed": false,
    "pycharm": {
     "name": "#%% md\n"
    }
   }
  },
  {
   "cell_type": "markdown",
   "source": [
    "<img src=\"images/11.PNG\"/>\n",
    "\n",
    "<img src=\"images/12.PNG\"/>\n",
    "\n",
    "<img src=\"images/13.PNG\"/>\n",
    "\n",
    "<img src=\"images/14.PNG\"/>\n",
    "\n",
    "<img src=\"images/15.PNG\"/>\n"
   ],
   "metadata": {
    "collapsed": false,
    "pycharm": {
     "name": "#%% md\n"
    }
   }
  },
  {
   "cell_type": "markdown",
   "source": [
    "\n",
    "<img src=\"images/16.PNG\"/>\n",
    "\n",
    "<img src=\"images/17.PNG\"/>\n",
    "\n",
    "<img src=\"images/18.PNG\"/>\n",
    "\n",
    "<img src=\"images/19.PNG\"/>\n",
    "\n",
    "<img src=\"images/20.PNG\"/>\n",
    "\n",
    "<img src=\"images/21.PNG\"/>\n",
    "\n"
   ],
   "metadata": {
    "collapsed": false
   }
  },
  {
   "cell_type": "markdown",
   "source": [
    "\n",
    "What is git / What is version control ?\n",
    "\n",
    "- Git is a version control system (VCS)\n",
    "- Problems when we don't use VCS ?\n",
    "\t* Hard disk failure or computer crash\n",
    "\t* Hard for multiple people to work on same code\n",
    "\t* Difficult to track changes, rever back to previous version\n",
    "\n",
    "- VCS solvers all those problems\n",
    "\t* Sync it up from cloud\n",
    "\t* Multiple people work on same code. Golden copy is maintained on cloud. Code merge happens using mergetool.\n",
    "\t* VCS maintains version history, you can revert to any the previous state of your code.\n",
    "\n",
    "- different VCS systems\n",
    "\t* git\n",
    "\t* mercurial\n",
    "\t* subversion\n",
    "\t* ..\n",
    "- Git is the best by far VCS, because of\n",
    "\t* Distributed version control system\n",
    "\t* Github - very popular website to host code is based on git\n"
   ],
   "metadata": {
    "collapsed": false,
    "pycharm": {
     "name": "#%% md\n"
    }
   }
  },
  {
   "cell_type": "raw",
   "source": [],
   "metadata": {
    "collapsed": false,
    "pycharm": {
     "name": "#%% raw\n"
    }
   }
  },
  {
   "cell_type": "code",
   "execution_count": null,
   "outputs": [],
   "source": [],
   "metadata": {
    "collapsed": false,
    "pycharm": {
     "name": "#%%\n"
    }
   }
  }
 ],
 "metadata": {
  "kernelspec": {
   "display_name": "Python 3",
   "language": "python",
   "name": "python3"
  },
  "language_info": {
   "codemirror_mode": {
    "name": "ipython",
    "version": 2
   },
   "file_extension": ".py",
   "mimetype": "text/x-python",
   "name": "python",
   "nbconvert_exporter": "python",
   "pygments_lexer": "ipython2",
   "version": "2.7.6"
  }
 },
 "nbformat": 4,
 "nbformat_minor": 0
}