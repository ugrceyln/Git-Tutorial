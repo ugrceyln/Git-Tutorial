{
 "cells": [
  {
   "cell_type": "raw",
   "source": [
    "HEAD -> is a reference to the most recent commit in current branch (in most of the cases)\n",
    "\n",
    "git show HEAD                           # show changes of the HEAD commit\n",
    "git show <commmit_id>                   # show changes of the specified commit_id\n",
    "git difftool <commit_id1> <commit_id2>  # show differences between two commits that older commit should be first\n",
    "git difftool HEAD~2 HEAD~1              # show difference between one before commmit HEAD and two before commit HEAD\n",
    "git checkout <commit_id>                # 'detached HEAD' state that means HEAD not point to recent commit and instead state to this commit_id\n"
   ],
   "metadata": {
    "collapsed": false
   }
  },
  {
   "cell_type": "markdown",
   "source": [
    "<img src=\"images5/1.PNG\" />;\n",
    "\n",
    "<img src=\"images5/2.PNG\" />;\n",
    "\n",
    "<img src=\"images5/3.PNG\" />;\n",
    "\n",
    "<img src=\"images5/4.PNG\" />;\n",
    "\n",
    "<img src=\"images5/5.PNG\" />;\n",
    "\n",
    "<img src=\"images5/6.PNG\" />;\n",
    "\n",
    "<img src=\"images5/7.PNG\" />;\n",
    "\n",
    "<img src=\"images5/8.PNG\" />;\n",
    "\n",
    "<img src=\"images5/9.PNG\" />;\n",
    "\n",
    "<img src=\"images5/10.PNG\" />;\n",
    "\n",
    "<img src=\"images5/11.PNG\" />;\n",
    "\n",
    "<img src=\"images5/12.PNG\" />;\n",
    "\n",
    "<img src=\"images5/13.PNG\" />;\n",
    "\n",
    "<img src=\"images5/14.PNG\" />;\n",
    "\n",
    "<img src=\"images5/15.PNG\" />;\n",
    "\n",
    "<img src=\"images5/16.PNG\" />;\n",
    "\n",
    "<img src=\"images5/17.PNG\" />;\n",
    "\n",
    "<img src=\"images5/18.PNG\" />;\n",
    "\n",
    "<img src=\"images5/19.PNG\" />;\n",
    "\n",
    "<img src=\"images5/20.PNG\" />;\n",
    "\n",
    "<img src=\"images5/21.PNG\" />;\n",
    "\n",
    "<img src=\"images5/22.PNG\" />;\n",
    "\n",
    "<img src=\"images5/23.PNG\" />;\n",
    "\n",
    "<img src=\"images5/24.PNG\" />;\n",
    "\n",
    "<img src=\"images5/25.PNG\" />;\n",
    "\n",
    "<img src=\"images5/26.PNG\" />;\n",
    "\n",
    "<img src=\"images5/27.PNG\" />;\n",
    "\n",
    "<img src=\"images5/28.PNG\" />;\n",
    "\n",
    "<img src=\"images5/29.PNG\" />;\n",
    "\n",
    "<img src=\"images5/30.PNG\" />;\n",
    "\n",
    "<img src=\"images5/31.PNG\" />;\n",
    "\n",
    "<img src=\"images5/32.PNG\" />;\n",
    "\n",
    "<img src=\"images5/33.PNG\" />;\n",
    "\n",
    "<img src=\"images5/34.PNG\" />;\n"
   ],
   "metadata": {
    "collapsed": false,
    "pycharm": {
     "name": "#%% md\n"
    }
   }
  }
 ],
 "metadata": {
  "kernelspec": {
   "display_name": "Python 3",
   "language": "python",
   "name": "python3"
  },
  "language_info": {
   "codemirror_mode": {
    "name": "ipython",
    "version": 2
   },
   "file_extension": ".py",
   "mimetype": "text/x-python",
   "name": "python",
   "nbconvert_exporter": "python",
   "pygments_lexer": "ipython2",
   "version": "2.7.6"
  }
 },
 "nbformat": 4,
 "nbformat_minor": 0
}