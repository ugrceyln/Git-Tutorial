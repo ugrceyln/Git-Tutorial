{
 "cells": [
  {
   "cell_type": "raw",
   "source": [
    "HEAD -> is a reference to the most recent commit in current branch (in most of the cases)\n",
    "\n",
    "git show HEAD                           # show changes of the HEAD commit\n",
    "git show <commmit_id>                   # show changes of the specified commit_id\n",
    "git difftool <commit_id1> <commit_id2>  # show differences between two commits that older commit should be first\n",
    "git difftool HEAD~2 HEAD~1              # show difference between one before commmit HEAD and two before commit HEAD\n",
    "git checkout <commit_id>                # 'detached HEAD' state that means HEAD not point to recent commit and instead state to this commit_id\n"
   ],
   "metadata": {
    "collapsed": false
   }
  },
  {
   "cell_type": "markdown",
   "source": [
    "<img src=\"images/images5/1.PNG\" />;\n",
    "<img src=\"images/images5/2.PNG\" />;\n",
    "<img src=\"images/images5/3.PNG\" />;\n",
    "<img src=\"images/images5/4.PNG\" />;\n",
    "<img src=\"images/images5/5.PNG\" />;\n",
    "<img src=\"images/images5/6.PNG\" />;\n",
    "<img src=\"images/images5/7.PNG\" />;\n",
    "<img src=\"images/images5/8.PNG\" />;\n",
    "<img src=\"images/images5/9.PNG\" />;\n",
    "<img src=\"images/images5/10.PNG\" />;\n",
    "<img src=\"images/images5/11.PNG\" />;\n",
    "<img src=\"images/images5/12.PNG\" />;\n",
    "<img src=\"images/images5/13.PNG\" />;\n",
    "<img src=\"images/images5/14.PNG\" />;\n",
    "<img src=\"images/images5/15.PNG\" />;\n",
    "<img src=\"images/images5/16.PNG\" />;\n",
    "<img src=\"images/images5/17.PNG\" />;\n",
    "<img src=\"images/images5/18.PNG\" />;\n",
    "<img src=\"images/images5/19.PNG\" />;\n",
    "<img src=\"images/images5/20.PNG\" />;\n",
    "<img src=\"images/images5/21.PNG\" />;\n",
    "<img src=\"images/images5/22.PNG\" />;\n",
    "<img src=\"images/images5/23.PNG\" />;\n",
    "<img src=\"images/images5/24.PNG\" />;\n",
    "<img src=\"images/images5/25.PNG\" />;\n",
    "<img src=\"images/images5/26.PNG\" />;\n",
    "<img src=\"images/images5/27.PNG\" />;\n",
    "<img src=\"images/images5/28.PNG\" />;\n",
    "<img src=\"images/images5/29.PNG\" />;\n",
    "<img src=\"images/images5/30.PNG\" />;\n",
    "<img src=\"images/images5/31.PNG\" />;\n",
    "<img src=\"images/images5/32.PNG\" />;\n",
    "<img src=\"images/images5/33.PNG\" />;\n",
    "<img src=\"images/images5/34.PNG\" />;"
   ],
   "metadata": {
    "collapsed": false,
    "pycharm": {
     "name": "#%% md\n"
    }
   }
  },
  {
   "cell_type": "code",
   "execution_count": null,
   "outputs": [],
   "source": [],
   "metadata": {
    "collapsed": false,
    "pycharm": {
     "name": "#%%\n"
    }
   }
  }
 ],
 "metadata": {
  "kernelspec": {
   "display_name": "Python 3",
   "language": "python",
   "name": "python3"
  },
  "language_info": {
   "codemirror_mode": {
    "name": "ipython",
    "version": 2
   },
   "file_extension": ".py",
   "mimetype": "text/x-python",
   "name": "python",
   "nbconvert_exporter": "python",
   "pygments_lexer": "ipython2",
   "version": "2.7.6"
  }
 },
 "nbformat": 4,
 "nbformat_minor": 0
}