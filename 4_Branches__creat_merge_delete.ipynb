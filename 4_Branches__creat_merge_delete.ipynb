{
 "cells": [
  {
   "cell_type": "raw",
   "source": [
    "1) git branch                   # list all the branches\n",
    "2) git branch xyz               # create a new branch with name xyz\n",
    "3) git checkout new_branch      # make xyz an active branch\n",
    "4) git checkout -b xyz          # create a new branch xyz and make it active. Thsi basically a combination of (2) and (3)\n",
    "5) git merge xyz                # merge xyz into current branch\n",
    "6) git branch -d xyz            # delete xyz branch"
   ],
   "metadata": {
    "collapsed": false,
    "pycharm": {
     "name": "#%% raw\n"
    }
   }
  },
  {
   "cell_type": "markdown",
   "source": [
    "<img src=\"images4/1.PNG\" />;\n",
    "\n",
    "<img src=\"images4/2.PNG\" />;\n",
    "\n",
    "<img src=\"images4/3.PNG\" />;\n",
    "\n",
    "<img src=\"images4/4.PNG\" />;\n",
    "\n",
    "<img src=\"images4/5.PNG\" />;\n",
    "\n",
    "<img src=\"images4/6.PNG\" />;\n",
    "\n",
    "<img src=\"images4/7.PNG\" />;\n",
    "\n",
    "<img src=\"images4/8.PNG\" />;\n",
    "\n",
    "<img src=\"images4/9.PNG\" />;\n",
    "\n",
    "<img src=\"images4/10.PNG\" />;\n",
    "\n",
    "<img src=\"images4/11.PNG\" />;\n",
    "\n",
    "<img src=\"images4/12.PNG\" />;\n",
    "\n",
    "<img src=\"images4/13.PNG\" />;\n",
    "\n",
    "<img src=\"images4/14.PNG\" />;\n",
    "\n",
    "<img src=\"images4/15.PNG\" />;\n",
    "\n",
    "<img src=\"images4/16.PNG\" />;\n",
    "\n",
    "<img src=\"images4/18.PNG\" />;\n",
    "\n",
    "<img src=\"images4/19.PNG\" />;\n",
    "\n",
    "<img src=\"images4/20.PNG\" />;\n",
    "\n",
    "<img src=\"images4/21.PNG\" />;\n",
    "\n",
    "<img src=\"images4/22.PNG\" />;\n",
    "\n",
    "<img src=\"images4/23.PNG\" />;\n",
    "\n",
    "<img src=\"images4/24.PNG\" />;\n",
    "\n",
    "<img src=\"images4/25.PNG\" />;"
   ],
   "metadata": {
    "collapsed": false
   }
  },
  {
   "cell_type": "markdown",
   "source": [
    "<img src=\"images4/26.PNG\" />;\n",
    "\n",
    "<img src=\"images4/27.PNG\" />;\n",
    "\n",
    "<img src=\"images4/28.PNG\" />;\n",
    "\n",
    "<img src=\"images4/29.PNG\" />;\n",
    "\n",
    "<img src=\"images4/30.PNG\" />;\n",
    "\n",
    "<img src=\"images4/31.PNG\" />;\n",
    "\n",
    "<img src=\"images4/32.PNG\" />;\n",
    "\n",
    "<img src=\"images4/33.PNG\" />;\n",
    "\n",
    "<img src=\"images4/34.PNG\" />;\n",
    "\n",
    "<img src=\"images4/35.PNG\" />;\n",
    "\n",
    "<img src=\"images4/36.PNG\" />;\n",
    "\n",
    "<img src=\"images4/37.PNG\" />;\n",
    "\n",
    "<img src=\"images4/38.PNG\" />;\n",
    "\n",
    "<img src=\"images4/39.PNG\" />;\n",
    "\n",
    "<img src=\"images4/40.PNG\" />;\n",
    "\n",
    "<img src=\"images4/41.PNG\" />;\n",
    "\n",
    "<img src=\"images4/42.PNG\" />;\n",
    "\n",
    "<img src=\"images4/44.PNG\" />;\n",
    "\n",
    "<img src=\"images4/45.PNG\" />;\n",
    "\n",
    "<img src=\"images4/46.PNG\" />;\n",
    "\n",
    "<img src=\"images4/48.PNG\" />;\n",
    "\n",
    "<img src=\"images4/49.PNG\" />;\n",
    "\n",
    "<img src=\"images4/40.PNG\" />;"
   ],
   "metadata": {
    "collapsed": false,
    "pycharm": {
     "name": "#%% md\n"
    }
   }
  },
  {
   "cell_type": "markdown",
   "source": [
    "\n",
    "<img src=\"images4/50.PNG\" />;\n",
    "\n",
    "<img src=\"images4/51.PNG\" />;\n",
    "\n",
    "<img src=\"images4/52.PNG\" />;\n",
    "\n",
    "<img src=\"images4/53.PNG\" />;"
   ],
   "metadata": {
    "collapsed": false,
    "pycharm": {
     "name": "#%% md\n"
    }
   }
  },
  {
   "cell_type": "markdown",
   "source": [],
   "metadata": {
    "collapsed": false,
    "pycharm": {
     "name": "#%% md\n"
    }
   }
  },
  {
   "cell_type": "markdown",
   "source": [],
   "metadata": {
    "collapsed": false,
    "pycharm": {
     "name": "#%% md\n"
    }
   }
  },
  {
   "cell_type": "markdown",
   "source": [],
   "metadata": {
    "collapsed": false,
    "pycharm": {
     "name": "#%% md\n"
    }
   }
  }
 ],
 "metadata": {
  "kernelspec": {
   "display_name": "Python 3",
   "language": "python",
   "name": "python3"
  },
  "language_info": {
   "codemirror_mode": {
    "name": "ipython",
    "version": 2
   },
   "file_extension": ".py",
   "mimetype": "text/x-python",
   "name": "python",
   "nbconvert_exporter": "python",
   "pygments_lexer": "ipython2",
   "version": "2.7.6"
  }
 },
 "nbformat": 4,
 "nbformat_minor": 0
}